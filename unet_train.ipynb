{
 "cells": [
  {
   "cell_type": "code",
   "execution_count": 7,
   "metadata": {},
   "outputs": [
    {
     "name": "stderr",
     "output_type": "stream",
     "text": [
      "C:\\Anaconda\\envs\\py36gpu\\lib\\site-packages\\h5py\\__init__.py:36: FutureWarning: Conversion of the second argument of issubdtype from `float` to `np.floating` is deprecated. In future, it will be treated as `np.float64 == np.dtype(float).type`.\n",
      "  from ._conv import register_converters as _register_converters\n",
      "Using TensorFlow backend.\n"
     ]
    }
   ],
   "source": [
    "import numpy as np\n",
    "from comet_ml import Optimizer\n",
    "from unet import *\n",
    "from keras import Input\n",
    "from keras.optimizers import Adam\n",
    "import matplotlib.pyplot as plt\n",
    "import tensorflow as tf\n",
    "import math"
   ]
  },
  {
   "cell_type": "code",
   "execution_count": 1,
   "metadata": {},
   "outputs": [],
   "source": [
    "def build_model():\n",
    "    input_tensor=Input((256,256,1))\n",
    "    model=unet(input_tensor,maxpool=False)\n",
    "    return model"
   ]
  },
  {
   "cell_type": "code",
   "execution_count": 2,
   "metadata": {},
   "outputs": [],
   "source": [
    "def create_data():    \n",
    "    #create training data.\n",
    "    X=np.random.randn(100,256,256,1)\n",
    "    #generate reference data (label/true data)\n",
    "    Y=0.8*X+2\n",
    "    print(X.shape,Y.shape)\n",
    "    #generate some validation data\n",
    "    X_val=np.random.randn(100,256,256,1)\n",
    "    Y_val=0.8*X_val+2\n",
    "    \n",
    "    print(X_val.shape,Y_val.shape)\n",
    "    return (X,Y,X_val,Y_val)"
   ]
  },
  {
   "cell_type": "code",
   "execution_count": 3,
   "metadata": {},
   "outputs": [],
   "source": [
    "def train(X_train=None,Y_train=None,validation_data=(None,None),batch=None,epochs=None):\n",
    "    model=build_model()\n",
    "    model.compile(optimizer=Adam(), loss=\"mse\", metrics=[\"accuracy\"])\n",
    "    results=model.fit(X_train,Y_train,batch_size=batch,epochs=epochs,validation_data=validation_data)\n",
    "    return results"
   ]
  },
  {
   "cell_type": "code",
   "execution_count": null,
   "metadata": {},
   "outputs": [],
   "source": [
    "def train_generator(train_gen, train_steps_per_epoch=None,validation_data=(None,None), val_steps_per_epoch=None,epochs=None):\n",
    "    model=build_model()\n",
    "    model.compile(optimizer=Adam(), loss=\"mse\", metrics=[\"accuracy\"])\n",
    "    results=model.fit(train_gen,\n",
    "                                steps_per_epoch=train_steps_per_epoch,\n",
    "                                epochs=epochs,\n",
    "                                validation_data=validation_data,\n",
    "                                validation_steps=val_steps_per_epoch\n",
    "                                )\n",
    "    return results"
   ]
  },
  {
   "cell_type": "code",
   "execution_count": null,
   "metadata": {},
   "outputs": [],
   "source": [
    "BATCH_SIZE=64\n",
    "\n",
    "(X,Y,X_val,Y_val)=create_data()\n",
    "#https://www.tensorflow.org/api_docs/python/tf/data/Dataset#batch\n",
    "\n",
    "train_dataset=tf.data.Dataset.from_tensor_slices((X,Y))\n",
    "val_dataset=tf.data.Dataset.from_tensor_slices((X_val,Y_val))\n",
    "\n",
    "train_dataset=train_dataset.batch(BATCH_SIZE)\n",
    "val_dataset=val_dataset.batch(BATCH_SIZE)\n",
    "\n",
    "train_iter=train_dataset.as_numpy_iterator()\n",
    "val_iter=val_dataset.as_numpy_iterator()\n",
    "\n",
    "def data_gen(dataset):\n",
    "    iter_ds=dataset.as_numpy_iterator()\n",
    "    #x,y=next(iter_ds)\n",
    "    yield next(iter_ds)"
   ]
  },
  {
   "cell_type": "code",
   "execution_count": null,
   "metadata": {},
   "outputs": [],
   "source": [
    "for i in range(10):\n",
    "    xy=data_gen(train_dataset)\n",
    "    print(i,\":\",list(xy))"
   ]
  }
 ],
 "metadata": {
  "kernelspec": {
   "display_name": "py36gpu_",
   "language": "python",
   "name": "py36gpu_"
  },
  "language_info": {
   "codemirror_mode": {
    "name": "ipython",
    "version": 3
   },
   "file_extension": ".py",
   "mimetype": "text/x-python",
   "name": "python",
   "nbconvert_exporter": "python",
   "pygments_lexer": "ipython3",
   "version": "3.6.7"
  }
 },
 "nbformat": 4,
 "nbformat_minor": 2
}
